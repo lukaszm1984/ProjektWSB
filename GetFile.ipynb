{
  "nbformat": 4,
  "nbformat_minor": 0,
  "metadata": {
    "colab": {
      "name": "Untitled6.ipynb",
      "provenance": [],
      "include_colab_link": true
    },
    "kernelspec": {
      "name": "python3",
      "display_name": "Python 3"
    }
  },
  "cells": [
    {
      "cell_type": "markdown",
      "metadata": {
        "id": "view-in-github",
        "colab_type": "text"
      },
      "source": [
        "<a href=\"https://colab.research.google.com/github/xWuWux/ProjektWSB/blob/master/GetFile.ipynb\" target=\"_parent\"><img src=\"https://colab.research.google.com/assets/colab-badge.svg\" alt=\"Open In Colab\"/></a>"
      ]
    },
    {
      "cell_type": "code",
      "metadata": {
        "id": "seIhn7WYbEjt",
        "colab_type": "code",
        "colab": {}
      },
      "source": [
        "if choice==1:\n",
        "        url = \"http://s3.zylowski.net/public/input/5.txt\"\n",
        "        r = requests.get(url)\n",
        "        with open('file.txt', 'w') as file:\n",
        "                file.write(r.text.encode('UTF-8'))"
      ],
      "execution_count": 0,
      "outputs": []
    },
    {
      "cell_type": "code",
      "metadata": {
        "id": "rVCd9HiwbFT-",
        "colab_type": "code",
        "colab": {}
      },
      "source": [
        ""
      ],
      "execution_count": 0,
      "outputs": []
    }
  ]
}